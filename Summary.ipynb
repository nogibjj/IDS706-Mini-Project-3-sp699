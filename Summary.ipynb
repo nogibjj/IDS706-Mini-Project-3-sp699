{
 "cells": [
  {
   "cell_type": "markdown",
   "metadata": {},
   "source": [
    "### Summary of Mini Project 3"
   ]
  },
  {
   "cell_type": "markdown",
   "metadata": {},
   "source": [
    "#### Statistics (Mean, Median, and Standard Deviation)"
   ]
  },
  {
   "cell_type": "code",
   "execution_count": 1,
   "metadata": {},
   "outputs": [
    {
     "name": "stderr",
     "output_type": "stream",
     "text": [
      "c:\\Users\\User\\miniconda3\\Lib\\site-packages\\numpy\\_distributor_init.py:30: UserWarning: loaded more than 1 DLL from .libs:\n",
      "c:\\Users\\User\\miniconda3\\Lib\\site-packages\\numpy\\.libs\\libopenblas64__v0.3.21-gcc_10_3_0.dll\n",
      "c:\\Users\\User\\miniconda3\\Lib\\site-packages\\numpy\\.libs\\libopenblas64__v0.3.23-246-g3d31191b-gcc_10_3_0.dll\n",
      "  warnings.warn(\"loaded more than 1 DLL from .libs:\"\n"
     ]
    }
   ],
   "source": [
    "# 1. import Python packages\n",
    "import polars as pl\n",
    "import matplotlib.pyplot as plt"
   ]
  },
  {
   "cell_type": "code",
   "execution_count": 2,
   "metadata": {},
   "outputs": [
    {
     "name": "stdout",
     "output_type": "stream",
     "text": [
      "shape: (344, 9)\n",
      "┌───────┬───────────┬───────────┬────────────────┬───┬───────────────┬─────────────┬────────┬──────┐\n",
      "│ rowid ┆ species   ┆ island    ┆ bill_length_mm ┆ … ┆ flipper_lengt ┆ body_mass_g ┆ sex    ┆ year │\n",
      "│ ---   ┆ ---       ┆ ---       ┆ ---            ┆   ┆ h_mm          ┆ ---         ┆ ---    ┆ ---  │\n",
      "│ i64   ┆ str       ┆ str       ┆ f64            ┆   ┆ ---           ┆ i64         ┆ str    ┆ i64  │\n",
      "│       ┆           ┆           ┆                ┆   ┆ i64           ┆             ┆        ┆      │\n",
      "╞═══════╪═══════════╪═══════════╪════════════════╪═══╪═══════════════╪═════════════╪════════╪══════╡\n",
      "│ 1     ┆ Adelie    ┆ Torgersen ┆ 39.1           ┆ … ┆ 181           ┆ 3750        ┆ male   ┆ 2007 │\n",
      "│ 2     ┆ Adelie    ┆ Torgersen ┆ 39.5           ┆ … ┆ 186           ┆ 3800        ┆ female ┆ 2007 │\n",
      "│ 3     ┆ Adelie    ┆ Torgersen ┆ 40.3           ┆ … ┆ 195           ┆ 3250        ┆ female ┆ 2007 │\n",
      "│ 4     ┆ Adelie    ┆ Torgersen ┆ null           ┆ … ┆ null          ┆ null        ┆ null   ┆ 2007 │\n",
      "│ …     ┆ …         ┆ …         ┆ …              ┆ … ┆ …             ┆ …           ┆ …      ┆ …    │\n",
      "│ 341   ┆ Chinstrap ┆ Dream     ┆ 43.5           ┆ … ┆ 202           ┆ 3400        ┆ female ┆ 2009 │\n",
      "│ 342   ┆ Chinstrap ┆ Dream     ┆ 49.6           ┆ … ┆ 193           ┆ 3775        ┆ male   ┆ 2009 │\n",
      "│ 343   ┆ Chinstrap ┆ Dream     ┆ 50.8           ┆ … ┆ 210           ┆ 4100        ┆ male   ┆ 2009 │\n",
      "│ 344   ┆ Chinstrap ┆ Dream     ┆ 50.2           ┆ … ┆ 198           ┆ 3775        ┆ female ┆ 2009 │\n",
      "└───────┴───────────┴───────────┴────────────────┴───┴───────────────┴─────────────┴────────┴──────┘\n"
     ]
    }
   ],
   "source": [
    "# 2. Load the dataset and verify if it has been imported correctly.\n",
    "penguins_df = pl.read_csv(\"penguins.csv\")\n",
    "print(penguins_df)"
   ]
  },
  {
   "cell_type": "code",
   "execution_count": 3,
   "metadata": {},
   "outputs": [
    {
     "name": "stdout",
     "output_type": "stream",
     "text": [
      "shape: (9, 10)\n",
      "┌────────────┬───────────┬─────────┬───────────┬───┬────────────┬────────────┬────────┬────────────┐\n",
      "│ describe   ┆ rowid     ┆ species ┆ island    ┆ … ┆ flipper_le ┆ body_mass_ ┆ sex    ┆ year       │\n",
      "│ ---        ┆ ---       ┆ ---     ┆ ---       ┆   ┆ ngth_mm    ┆ g          ┆ ---    ┆ ---        │\n",
      "│ str        ┆ f64       ┆ str     ┆ str       ┆   ┆ ---        ┆ ---        ┆ str    ┆ f64        │\n",
      "│            ┆           ┆         ┆           ┆   ┆ f64        ┆ f64        ┆        ┆            │\n",
      "╞════════════╪═══════════╪═════════╪═══════════╪═══╪════════════╪════════════╪════════╪════════════╡\n",
      "│ count      ┆ 344.0     ┆ 344     ┆ 344       ┆ … ┆ 344.0      ┆ 344.0      ┆ 344    ┆ 344.0      │\n",
      "│ null_count ┆ 0.0       ┆ 0       ┆ 0         ┆ … ┆ 2.0        ┆ 2.0        ┆ 11     ┆ 0.0        │\n",
      "│ mean       ┆ 172.5     ┆ null    ┆ null      ┆ … ┆ 200.915205 ┆ 4201.75438 ┆ null   ┆ 2008.02907 │\n",
      "│            ┆           ┆         ┆           ┆   ┆            ┆ 6          ┆        ┆            │\n",
      "│ std        ┆ 99.448479 ┆ null    ┆ null      ┆ … ┆ 14.061714  ┆ 801.954536 ┆ null   ┆ 0.818356   │\n",
      "│ min        ┆ 1.0       ┆ Adelie  ┆ Biscoe    ┆ … ┆ 172.0      ┆ 2700.0     ┆ female ┆ 2007.0     │\n",
      "│ 25%        ┆ 87.0      ┆ null    ┆ null      ┆ … ┆ 190.0      ┆ 3550.0     ┆ null   ┆ 2007.0     │\n",
      "│ 50%        ┆ 173.0     ┆ null    ┆ null      ┆ … ┆ 197.0      ┆ 4050.0     ┆ null   ┆ 2008.0     │\n",
      "│ 75%        ┆ 259.0     ┆ null    ┆ null      ┆ … ┆ 213.0      ┆ 4750.0     ┆ null   ┆ 2009.0     │\n",
      "│ max        ┆ 344.0     ┆ Gentoo  ┆ Torgersen ┆ … ┆ 231.0      ┆ 6300.0     ┆ male   ┆ 2009.0     │\n",
      "└────────────┴───────────┴─────────┴───────────┴───┴────────────┴────────────┴────────┴────────────┘\n"
     ]
    }
   ],
   "source": [
    "# 3. Calculate mean, median, standard deviation of each columns\n",
    "def calculate_stat():\n",
    "    penguins_desc = penguins_df.describe()\n",
    "    print(penguins_desc)\n",
    "\n",
    "\n",
    "calculate_stat()"
   ]
  },
  {
   "cell_type": "markdown",
   "metadata": {},
   "source": [
    "#### Data Visualization (Histogram)"
   ]
  },
  {
   "cell_type": "code",
   "execution_count": 4,
   "metadata": {},
   "outputs": [
    {
     "data": {
      "image/png": "[encoded data removed]",
      "text/plain": [
       "<Figure size 640x480 with 1 Axes>"
      ]
     },
     "metadata": {},
     "output_type": "display_data"
    }
   ],
   "source": [
    "# 4. Make a histogram of 'bill_length_mm' column in penguins.csv\n",
    "def build_histogram():\n",
    "    plt.hist(penguins_df[\"bill_length_mm\"], bins=20, color=\"green\", edgecolor=\"white\")\n",
    "    plt.xlabel(\"bill_length_mm\")\n",
    "    plt.ylabel(\"Frequency\")\n",
    "    plt.title(\"Bill Length Histogram\")\n",
    "    plt.savefig(\"bill_length_hist.png\")\n",
    "    plt.show()\n",
    "    return\n",
    "\n",
    "\n",
    "build_histogram()"
   ]
  }
 ],
 "metadata": {
  "kernelspec": {
   "display_name": "base",
   "language": "python",
   "name": "python3"
  },
  "language_info": {
   "codemirror_mode": {
    "name": "ipython",
    "version": 3
   },
   "file_extension": ".py",
   "mimetype": "text/x-python",
   "name": "python",
   "nbconvert_exporter": "python",
   "pygments_lexer": "ipython3",
   "version": "3.11.5"
  },
  "orig_nbformat": 4
 },
 "nbformat": 4,
 "nbformat_minor": 2
}
