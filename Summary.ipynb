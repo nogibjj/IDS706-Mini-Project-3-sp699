{
 "cells": [
  {
   "cell_type": "code",
   "execution_count": null,
   "metadata": {},
   "outputs": [],
   "source": [
    "### Summary of Mini Project 3"
   ]
  },
  {
   "cell_type": "markdown",
   "metadata": {},
   "source": [
    "#### Statistics (Mean, Median, and Standard Deviation)"
   ]
  },
  {
   "cell_type": "code",
   "execution_count": null,
   "metadata": {},
   "outputs": [],
   "source": [
    "# 1. import Python packages\n",
    "import polars as pl\n",
    "import matplotlib.pyplot as plt"
   ]
  },
  {
   "cell_type": "code",
   "execution_count": null,
   "metadata": {},
   "outputs": [],
   "source": [
    "# 2. Load the dataset and verify if it has been imported correctly.\n",
    "penguins_df = pl.read_csv(\"penguins.csv\")\n",
    "print(penguins_df)"
   ]
  },
  {
   "cell_type": "code",
   "execution_count": null,
   "metadata": {},
   "outputs": [],
   "source": [
    "# 3. Calculate mean, median, standard deviation of each columns\n",
    "def calculate_stat():\n",
    "    penguins_desc = penguins_df.describe()\n",
    "    print(penguins_desc)\n",
    "\n",
    "\n",
    "calculate_stat()"
   ]
  },
  {
   "cell_type": "markdown",
   "metadata": {},
   "source": [
    "#### Data Visualization (Histogram)"
   ]
  },
  {
   "cell_type": "code",
   "execution_count": null,
   "metadata": {},
   "outputs": [],
   "source": [
    "# 4. Make a histogram of 'bill_length_mm' column in penguins.csv\n",
    "def build_histogram():\n",
    "    plt.hist(penguins_df[\"bill_length_mm\"], bins=20, color=\"green\", edgecolor=\"white\")\n",
    "    plt.xlabel(\"bill_length_mm\")\n",
    "    plt.ylabel(\"Frequency\")\n",
    "    plt.title(\"Bill Length Histogram\")\n",
    "    plt.savefig(\"bill_length_hist.png\")\n",
    "    plt.show()\n",
    "    return\n",
    "\n",
    "\n",
    "build_histogram()"
   ]
  }
 ],
 "metadata": {
  "language_info": {
   "name": "python"
  },
  "orig_nbformat": 4
 },
 "nbformat": 4,
 "nbformat_minor": 2
}
